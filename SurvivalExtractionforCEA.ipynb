{
 "cells": [
  {
   "cell_type": "markdown",
   "metadata": {},
   "source": [
    "# Introduction "
   ]
  },
  {
   "cell_type": "markdown",
   "metadata": {},
   "source": [
    "This jupyter notbook is to illustrate the process of extracting survival curve from published literature in order to generate parametric/non-parametric survival distrbutions for use in cost-effectiveness analysis (CEA) or health technology assessments (HTA)."
   ]
  },
  {
   "cell_type": "markdown",
   "metadata": {},
   "source": [
    "# System Information"
   ]
  },
  {
   "cell_type": "code",
   "execution_count": 1,
   "metadata": {},
   "outputs": [
    {
     "name": "stdout",
     "output_type": "stream",
     "text": [
      "3.6.1 (default, Sep  7 2017, 16:36:03) \n",
      "[GCC 6.3.0 20170406]\n"
     ]
    }
   ],
   "source": [
    "import sys\n",
    "print (sys.version)"
   ]
  },
  {
   "cell_type": "markdown",
   "metadata": {},
   "source": [
    "The next line is to allow for printing all python code as opposed to just the last line in the code syntax"
   ]
  },
  {
   "cell_type": "code",
   "execution_count": 2,
   "metadata": {},
   "outputs": [],
   "source": [
    "from IPython.core.interactiveshell import InteractiveShell\n",
    "InteractiveShell.ast_node_interactivity = \"all\""
   ]
  },
  {
   "cell_type": "markdown",
   "metadata": {},
   "source": [
    "#  Example Curve"
   ]
  },
  {
   "cell_type": "markdown",
   "metadata": {},
   "source": [
    "The curve that we will be using will be from [Neelapu et al](http://www.nejm.org/doi/full/10.1056/NEJMoa1707447) where the survival plot figure 2B indicates progression free surivival probabilities (from Kaplan-Meier estimates) are plotted. \n",
    "\n",
    "Below is a very brief tutorial on how to go about extracting the curve using the [WebPlotDigitizer](https://apps.automeris.io/wpd/). This app is very useful but requires a bit of manual handling (for now... working on a script that will generate the curves automatically)."
   ]
  },
  {
   "cell_type": "markdown",
   "metadata": {},
   "source": [
    "# Curve Extraction using WebPlotDigitizer"
   ]
  },
  {
   "cell_type": "markdown",
   "metadata": {},
   "source": [
    "1. Using snipping tool, extract a png file from the original pdf document of Figure 2B of the article and and input into the application using File -> Load image.\n",
    "\n",
    "2. After aligning the axis (X and Y axes) and labeling the axes with appropriate values, highlight the curve area with a box then extract using X Step interpolation (0.5 Units would have change in X by 0.5 months).\n",
    "\n",
    "3. View Data and Download .CSV or copy the two columns (via opening Graph in Plotly).\n",
    "\n",
    "4. "
   ]
  },
  {
   "cell_type": "markdown",
   "metadata": {},
   "source": [
    "## 1.1 Create PNG\n",
    "\n",
    " Creating PNG using [GreenShot](http://getgreenshot.org/).\n",
    "\n",
    "![Creating PNG of Figure 2B](www/CE_1.png)"
   ]
  },
  {
   "cell_type": "markdown",
   "metadata": {},
   "source": [
    "## 1.2 Upload into WPD\n",
    "\n",
    "Upload Into [WebPlotDigitizer](https://apps.automeris.io/wpd/)\n",
    "\n",
    "![Input Into WebPlotDigitizer](www/CE_2.png)"
   ]
  },
  {
   "cell_type": "markdown",
   "metadata": {},
   "source": [
    "## 2.1 Set values onto X and Y Axis\n",
    "\n",
    "![Set Axis](www/GP_1.png)"
   ]
  },
  {
   "cell_type": "markdown",
   "metadata": {},
   "source": [
    "## 2.2 Highlight Curve and Extract\n",
    "\n",
    "- Highlight curve using box and extract using X Step interpolation with 0.5 as $\\delta$X\n",
    "\n",
    "![Extract Curve](www/GP_2.png)"
   ]
  },
  {
   "cell_type": "markdown",
   "metadata": {},
   "source": [
    "## 3.1 View Data\n",
    "\n",
    "- View data and format as user prefers (I usually keep 3 digits)\n",
    "\n",
    "![View Data](www/VD_1.png)"
   ]
  },
  {
   "cell_type": "markdown",
   "metadata": {},
   "source": [
    "## 3.2 Copy CSV\n",
    "\n",
    "- Copy CSV so that it follows the Guyot guideline\n",
    "- The S(t) must be monotone decreasing (there must not be any survival probabilities that x2 > x1 and S(x2) > S(x1)\n",
    "\n",
    "![Guyot Example](www/guyotex.png)"
   ]
  },
  {
   "cell_type": "markdown",
   "metadata": {},
   "source": [
    "Here we will illustrate how we can make the Guyot template csv file which contains \n",
    "column 1: Extracted coordinates which essentially numbers from 1 to n\n",
    "column 2: Time\n",
    "column 3: Survival Probabilities that is extracted from the WPD app\n",
    "column 4: check using microsoft excel function to indicate whether current value is smaller than previous. Will indicate `FALSE` if not\n",
    "column 5: S(t) after adjusting,  this will be done using a python code presented below\n",
    "column 6: Final check to see if whether current value is smaller than previous.\n",
    "\n",
    "Column 3 and 6 are essentially checks that indicate whether or not the S(x2) value is smaller than S(x1). These columns are unnecessary when running the Guyot code"
   ]
  },
  {
   "cell_type": "code",
   "execution_count": 3,
   "metadata": {},
   "outputs": [],
   "source": [
    "# Load pandas for data manipulation\n",
    "import pandas as pd"
   ]
  },
  {
   "cell_type": "code",
   "execution_count": 4,
   "metadata": {},
   "outputs": [],
   "source": [
    "example_data = pd.read_csv(\"example.csv\", header = None)"
   ]
  },
  {
   "cell_type": "code",
   "execution_count": 5,
   "metadata": {},
   "outputs": [
    {
     "data": {
      "text/html": [
       "<div>\n",
       "<style>\n",
       "    .dataframe thead tr:only-child th {\n",
       "        text-align: right;\n",
       "    }\n",
       "\n",
       "    .dataframe thead th {\n",
       "        text-align: left;\n",
       "    }\n",
       "\n",
       "    .dataframe tbody tr th {\n",
       "        vertical-align: top;\n",
       "    }\n",
       "</style>\n",
       "<table border=\"1\" class=\"dataframe\">\n",
       "  <thead>\n",
       "    <tr style=\"text-align: right;\">\n",
       "      <th></th>\n",
       "      <th>0</th>\n",
       "      <th>1</th>\n",
       "    </tr>\n",
       "  </thead>\n",
       "  <tbody>\n",
       "    <tr>\n",
       "      <th>0</th>\n",
       "      <td>0.0</td>\n",
       "      <td>0.996</td>\n",
       "    </tr>\n",
       "    <tr>\n",
       "      <th>1</th>\n",
       "      <td>0.5</td>\n",
       "      <td>0.981</td>\n",
       "    </tr>\n",
       "    <tr>\n",
       "      <th>2</th>\n",
       "      <td>1.0</td>\n",
       "      <td>0.971</td>\n",
       "    </tr>\n",
       "    <tr>\n",
       "      <th>3</th>\n",
       "      <td>1.5</td>\n",
       "      <td>0.954</td>\n",
       "    </tr>\n",
       "    <tr>\n",
       "      <th>4</th>\n",
       "      <td>2.0</td>\n",
       "      <td>0.945</td>\n",
       "    </tr>\n",
       "  </tbody>\n",
       "</table>\n",
       "</div>"
      ],
      "text/plain": [
       "     0      1\n",
       "0  0.0  0.996\n",
       "1  0.5  0.981\n",
       "2  1.0  0.971\n",
       "3  1.5  0.954\n",
       "4  2.0  0.945"
      ]
     },
     "execution_count": 5,
     "metadata": {},
     "output_type": "execute_result"
    }
   ],
   "source": [
    "example_data.head(5)"
   ]
  },
  {
   "cell_type": "code",
   "execution_count": 6,
   "metadata": {},
   "outputs": [],
   "source": [
    "# To do\n",
    "# 1. Add column 1 indicating extracted column\n",
    "# 2. Add algorithm that will check monotone decreasing of survival probabilities\n",
    "# 3. Add header for visual display\n",
    "# 4. Plot KM Curve then end"
   ]
  },
  {
   "cell_type": "code",
   "execution_count": 7,
   "metadata": {},
   "outputs": [],
   "source": [
    "# Add column 1\n",
    "example_data['Extracted_Coordinates'] = pd.Series(range(1,len(example_data)+1))"
   ]
  },
  {
   "cell_type": "code",
   "execution_count": 8,
   "metadata": {},
   "outputs": [
    {
     "data": {
      "text/html": [
       "<div>\n",
       "<style>\n",
       "    .dataframe thead tr:only-child th {\n",
       "        text-align: right;\n",
       "    }\n",
       "\n",
       "    .dataframe thead th {\n",
       "        text-align: left;\n",
       "    }\n",
       "\n",
       "    .dataframe tbody tr th {\n",
       "        vertical-align: top;\n",
       "    }\n",
       "</style>\n",
       "<table border=\"1\" class=\"dataframe\">\n",
       "  <thead>\n",
       "    <tr style=\"text-align: right;\">\n",
       "      <th></th>\n",
       "      <th>0</th>\n",
       "      <th>1</th>\n",
       "      <th>Extracted_Coordinates</th>\n",
       "    </tr>\n",
       "  </thead>\n",
       "  <tbody>\n",
       "    <tr>\n",
       "      <th>0</th>\n",
       "      <td>0.0</td>\n",
       "      <td>0.996</td>\n",
       "      <td>1</td>\n",
       "    </tr>\n",
       "    <tr>\n",
       "      <th>1</th>\n",
       "      <td>0.5</td>\n",
       "      <td>0.981</td>\n",
       "      <td>2</td>\n",
       "    </tr>\n",
       "    <tr>\n",
       "      <th>2</th>\n",
       "      <td>1.0</td>\n",
       "      <td>0.971</td>\n",
       "      <td>3</td>\n",
       "    </tr>\n",
       "    <tr>\n",
       "      <th>3</th>\n",
       "      <td>1.5</td>\n",
       "      <td>0.954</td>\n",
       "      <td>4</td>\n",
       "    </tr>\n",
       "    <tr>\n",
       "      <th>4</th>\n",
       "      <td>2.0</td>\n",
       "      <td>0.945</td>\n",
       "      <td>5</td>\n",
       "    </tr>\n",
       "  </tbody>\n",
       "</table>\n",
       "</div>"
      ],
      "text/plain": [
       "     0      1  Extracted_Coordinates\n",
       "0  0.0  0.996                      1\n",
       "1  0.5  0.981                      2\n",
       "2  1.0  0.971                      3\n",
       "3  1.5  0.954                      4\n",
       "4  2.0  0.945                      5"
      ]
     },
     "execution_count": 8,
     "metadata": {},
     "output_type": "execute_result"
    }
   ],
   "source": [
    "example_data.head(5)"
   ]
  },
  {
   "cell_type": "code",
   "execution_count": 9,
   "metadata": {},
   "outputs": [],
   "source": [
    "# Create function that will set data frame for Guyot algorithm data inserted must be pandas dataframe\n",
    "def SurvivalCurveGuyot(data):\n",
    "    \n",
    "    # First set 0th row of the probability column as 1 because we want the survival probability at time 0 to be 1 \n",
    "    data[1][0] = 1\n",
    "    \n",
    "    # CHeck monotonicity and if not then have the previous value be replaced by the next value. \n",
    "    for i in range(0,len(data)-1):\n",
    "        if data[1][i] >= data[1][i+1]:\n",
    "            pass\n",
    "        else:\n",
    "            data[1][i] = data[1][i+1]\n",
    "            \n",
    "    # Rearrange data so that the Extracted_Coordinates column is first\n",
    "    data.reindex(columns=['Extracted_Coordinates',0,1])\n",
    "    data.columns = ['Extracted_Coordinates','Time','S(t)']"
   ]
  },
  {
   "cell_type": "code",
   "execution_count": null,
   "metadata": {},
   "outputs": [],
   "source": [
    "SurvivalCurveGuyot(example_data)"
   ]
  },
  {
   "cell_type": "code",
   "execution_count": 12,
   "metadata": {},
   "outputs": [
    {
     "data": {
      "text/html": [
       "<div>\n",
       "<style>\n",
       "    .dataframe thead tr:only-child th {\n",
       "        text-align: right;\n",
       "    }\n",
       "\n",
       "    .dataframe thead th {\n",
       "        text-align: left;\n",
       "    }\n",
       "\n",
       "    .dataframe tbody tr th {\n",
       "        vertical-align: top;\n",
       "    }\n",
       "</style>\n",
       "<table border=\"1\" class=\"dataframe\">\n",
       "  <thead>\n",
       "    <tr style=\"text-align: right;\">\n",
       "      <th></th>\n",
       "      <th>Extracted_Coordinates</th>\n",
       "      <th>Time</th>\n",
       "      <th>S(t)</th>\n",
       "    </tr>\n",
       "  </thead>\n",
       "  <tbody>\n",
       "    <tr>\n",
       "      <th>0</th>\n",
       "      <td>0.0</td>\n",
       "      <td>1.000</td>\n",
       "      <td>1</td>\n",
       "    </tr>\n",
       "    <tr>\n",
       "      <th>1</th>\n",
       "      <td>0.5</td>\n",
       "      <td>0.981</td>\n",
       "      <td>2</td>\n",
       "    </tr>\n",
       "    <tr>\n",
       "      <th>2</th>\n",
       "      <td>1.0</td>\n",
       "      <td>0.971</td>\n",
       "      <td>3</td>\n",
       "    </tr>\n",
       "    <tr>\n",
       "      <th>3</th>\n",
       "      <td>1.5</td>\n",
       "      <td>0.954</td>\n",
       "      <td>4</td>\n",
       "    </tr>\n",
       "    <tr>\n",
       "      <th>4</th>\n",
       "      <td>2.0</td>\n",
       "      <td>0.945</td>\n",
       "      <td>5</td>\n",
       "    </tr>\n",
       "  </tbody>\n",
       "</table>\n",
       "</div>"
      ],
      "text/plain": [
       "   Extracted_Coordinates   Time  S(t)\n",
       "0                    0.0  1.000     1\n",
       "1                    0.5  0.981     2\n",
       "2                    1.0  0.971     3\n",
       "3                    1.5  0.954     4\n",
       "4                    2.0  0.945     5"
      ]
     },
     "execution_count": 12,
     "metadata": {},
     "output_type": "execute_result"
    }
   ],
   "source": [
    "example_data.head(5)"
   ]
  },
  {
   "cell_type": "markdown",
   "metadata": {},
   "source": [
    "## Ready to Run\n",
    "\n",
    "Now we are ready to put this data into the Dashboard"
   ]
  }
 ],
 "metadata": {
  "kernelspec": {
   "display_name": "Python 3",
   "language": "python",
   "name": "python3"
  },
  "language_info": {
   "codemirror_mode": {
    "name": "ipython",
    "version": 3
   },
   "file_extension": ".py",
   "mimetype": "text/x-python",
   "name": "python",
   "nbconvert_exporter": "python",
   "pygments_lexer": "ipython3",
   "version": "3.6.1"
  }
 },
 "nbformat": 4,
 "nbformat_minor": 2
}
