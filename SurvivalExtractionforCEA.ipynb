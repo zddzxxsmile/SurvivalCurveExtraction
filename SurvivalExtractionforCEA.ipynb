{
 "cells": [
  {
   "cell_type": "markdown",
   "metadata": {},
   "source": [
    "# Introduction "
   ]
  },
  {
   "cell_type": "markdown",
   "metadata": {},
   "source": [
    "This jupyter notbook is to illustrate the process of extracting survival curve from published literature in order to generate parametric/non-parametric survival distrbutions for use in cost-effectiveness analysis (CEA) or health technology assessments (HTA)."
   ]
  },
  {
   "cell_type": "markdown",
   "metadata": {},
   "source": [
    "# System Information"
   ]
  },
  {
   "cell_type": "code",
   "execution_count": 1,
   "metadata": {},
   "outputs": [
    {
     "name": "stdout",
     "output_type": "stream",
     "text": [
      "3.6.1 (default, Sep  7 2017, 16:36:03) \n",
      "[GCC 6.3.0 20170406]\n"
     ]
    }
   ],
   "source": [
    "import sys\n",
    "print (sys.version)"
   ]
  },
  {
   "cell_type": "markdown",
   "metadata": {},
   "source": [
    "The next line is to allow for printing all python code as opposed to just the last line in the code syntax"
   ]
  },
  {
   "cell_type": "code",
   "execution_count": 2,
   "metadata": {},
   "outputs": [],
   "source": [
    "from IPython.core.interactiveshell import InteractiveShell\n",
    "InteractiveShell.ast_node_interactivity = \"all\""
   ]
  },
  {
   "cell_type": "markdown",
   "metadata": {},
   "source": [
    "#  Example Curve"
   ]
  },
  {
   "cell_type": "markdown",
   "metadata": {},
   "source": [
    "The curve that we will be using will be from [Neelapu et al](http://www.nejm.org/doi/full/10.1056/NEJMoa1707447) where the survival plot figure 2B indicates progression free surivival probabilities (from Kaplan-Meier estimates) are plotted. \n",
    "\n",
    "Below is a very brief tutorial on how to go about extracting the curve using the [WebPlotDigitizer](https://apps.automeris.io/wpd/). This app is very useful but requires a bit of manual handling (for now... working on a script that will generate the curves automatically)."
   ]
  },
  {
   "cell_type": "markdown",
   "metadata": {},
   "source": [
    "# Curve Extraction using WebPlotDigitizer"
   ]
  },
  {
   "cell_type": "markdown",
   "metadata": {},
   "source": [
    "1. Using snipping tool, extract a png file from the original pdf document of Figure 2B of the article and and input into the application using File -> Load image.\n",
    "\n",
    "![title](/srv/shiny-server/SurvivalCurveExtraction/www/step1.gif)"
   ]
  },
  {
   "cell_type": "markdown",
   "metadata": {},
   "source": []
  }
 ],
 "metadata": {
  "kernelspec": {
   "display_name": "Python 3",
   "language": "python",
   "name": "python3"
  },
  "language_info": {
   "codemirror_mode": {
    "name": "ipython",
    "version": 3
   },
   "file_extension": ".py",
   "mimetype": "text/x-python",
   "name": "python",
   "nbconvert_exporter": "python",
   "pygments_lexer": "ipython3",
   "version": "3.6.1"
  }
 },
 "nbformat": 4,
 "nbformat_minor": 2
}
